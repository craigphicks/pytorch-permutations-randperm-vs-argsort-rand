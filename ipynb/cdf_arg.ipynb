{
 "cells": [
  {
   "cell_type": "code",
   "execution_count": 4,
   "metadata": {},
   "outputs": [
    {
     "name": "stdout",
     "output_type": "stream",
     "text": [
      "\n",
      "eq_cdf_arg_1= (mub - muf)/(2*sigmaf)\n",
      "\n",
      "eq_cdf_arg_2= sqrt(K)*d\n",
      "\n",
      "eq_cdf_arg_3= sqrt(K)*(K - 1)/(4*2**m)\n",
      "check_zero 0\n",
      "eq_cdf_arg_3= 2**(-m - 2)*sqrt(K)*(K - 1)\n"
     ]
    }
   ],
   "source": [
    "from sympy import symbols, log, sqrt, simplify, sympify, expand, Rational, UnevaluatedExpr\n",
    "import sympy\n",
    "from sympy.printing.latex import latex\n",
    "from IPython.display import Math\n",
    "\n",
    "# Define variables\n",
    "sigmab, mub, sigmaf, muf, K, N, d, m = symbols('sigmab mub sigmaf muf K N d m')\n",
    "sympy.rational = True \n",
    "half = Rational(1/2)\n",
    "quarter = Rational(1/4)\n",
    "\n",
    "eq_1 = K*(K-1)/2**(m+2) - d \n",
    "\n",
    "eq_cdf_arg_1 = (mub-muf)/(2*sigmaf)\n",
    "print()\n",
    "print(\"eq_cdf_arg_1=\",eq_cdf_arg_1)\n",
    "\n",
    "\n",
    "eq_cdf_arg_2 = eq_cdf_arg_1.subs({\n",
    "    muf:K * half,\n",
    "    mub:K * (half + d),\n",
    "    sigmaf: sqrt(K)/2\n",
    "}).simplify()\n",
    "print()\n",
    "print(\"eq_cdf_arg_2=\",eq_cdf_arg_2)\n",
    "\n",
    "# Math(latex(eq_cdf_arg_1))\n",
    "# Math(latex(eq_cdf_arg_2))\n",
    "\n",
    "eq_cdf_arg_3 = eq_cdf_arg_2.subs({\n",
    "    d: (K-1)/(2**(m+2))\n",
    "}).simplify()\n",
    "print()\n",
    "print(\"eq_cdf_arg_3=\",eq_cdf_arg_3)\n",
    "\n",
    "eq_cdf_arg_3_alt = sqrt(K)*(K - 1)/(2**(m+2))\n",
    "\n",
    "check_zero = (eq_cdf_arg_3_alt - eq_cdf_arg_3).simplify()\n",
    "print(\"check_zero\",check_zero)\n",
    "print(\"eq_cdf_arg_3=\",eq_cdf_arg_3_alt)\n",
    "\n"
   ]
  }
 ],
 "metadata": {
  "kernelspec": {
   "display_name": "Python 3 (ipykernel)",
   "language": "python",
   "name": "python3"
  },
  "language_info": {
   "codemirror_mode": {
    "name": "ipython",
    "version": 3
   },
   "file_extension": ".py",
   "mimetype": "text/x-python",
   "name": "python",
   "nbconvert_exporter": "python",
   "pygments_lexer": "ipython3",
   "version": "3.12.8"
  }
 },
 "nbformat": 4,
 "nbformat_minor": 2
}
