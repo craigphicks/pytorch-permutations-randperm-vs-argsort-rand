{
 "cells": [
  {
   "cell_type": "markdown",
   "metadata": {
    "vscode": {
     "languageId": "plaintext"
    }
   },
   "source": [
    "1. For two normal distributions, the point where their PDFs are equal satisfies:\n",
    "\n",
    "$$\n",
    "\\frac{1}{\\sigma_f\\sqrt{2\\pi}}e^{-\\frac{(x-\\mu_f)^2}{2\\sigma_f^2}} = \\frac{1}{\\sigma_b\\sqrt{2\\pi}}e^{-\\frac{(x-\\mu_b)^2}{2\\sigma_b^2}}\n",
    "$$\n",
    "\n",
    "2. Taking the natural logarithm of both sides:\n",
    "\n",
    "$$\n",
    "-\\ln(\\sigma_f) - \\frac{(x-\\mu_f)^2}{2\\sigma_f^2} = -\\ln(\\sigma_b) - \\frac{(x-\\mu_b)^2}{2\\sigma_b^2}\n",
    "$$\n",
    "\n",
    "3. Multiplying both sides by $-2\\sigma_f^2\\sigma_b^2$:\n",
    "\n",
    "$$\n",
    "2\\sigma_b^2\\sigma_f^2\\ln(\\frac{\\sigma_f}{\\sigma_b}) + \\sigma_b^2(x-\\mu_f)^2 = \\sigma_f^2(x-\\mu_b)^2\n",
    "$$\n",
    "\n",
    "4. Expanding the squares:\n",
    "\n",
    "$$\n",
    "2\\sigma_b^2\\sigma_f^2\\ln(\\frac{\\sigma_f}{\\sigma_b}) + \\sigma_b^2(x^2-2\\mu_fx+\\mu_f^2) = \\sigma_f^2(x^2-2\\mu_bx+\\mu_b^2)\n",
    "$$\n",
    "\n",
    "5. Grouping x terms:\n",
    "\n",
    "$$\n",
    "x^2(\\sigma_b^2-\\sigma_f^2) + x(-2\\mu_f\\sigma_b^2+2\\mu_b\\sigma_f^2) + (\\sigma_b^2\\mu_f^2-\\sigma_f^2\\mu_b^2+2\\sigma_b^2\\sigma_f^2\\ln(\\frac{\\sigma_f}{\\sigma_b})) = 0\n",
    "$$\n",
    "\n",
    "This is a quadratic equation in x. Since quadratic equations have closed-form solutions, the intersection point(s) of these PDFs do have a closed-form solution.\n",
    "\n",
    "The solution would be:\n",
    "\n",
    "$$\n",
    "x = \\frac{-b \\pm \\sqrt{b^2-4ac}}{2a}\n",
    "$$\n",
    "\n",
    "where:\n",
    "- $a = \\sigma_b^2-\\sigma_f^2$\n",
    "- $b = -2\\mu_f\\sigma_b^2+2\\mu_b\\sigma_f^2$\n",
    "- $c = \\sigma_b^2\\mu_f^2-\\sigma_f^2\\mu_b^2+2\\sigma_b^2\\sigma_f^2\\ln(\\frac{\\sigma_f}{\\sigma_b})$\n",
    "\n",
    "There is always one solution between $\\mu_b$ and $\\mu_f$.\n",
    "\n",
    "There may also be another real solution outside of that interval.\n",
    "\n"
   ]
  },
  {
   "cell_type": "code",
   "execution_count": null,
   "metadata": {},
   "outputs": [],
   "source": [
    "from sympy import symbols, log, sqrt, exp, simplify, sympify, expand, Rational, UnevaluatedExpr\n",
    "import sympy\n",
    "from sympy.printing.latex import latex\n",
    "from IPython.display import Math\n",
    "\n",
    "# Define variables\n",
    "x, sigma, mu, sigmab, mub, sigmaf, muf, K, N, d, m = symbols('x sigma mu sigmab mub sigmaf muf K N d m')\n",
    "sympy.rational = True \n",
    "\n",
    "eq_pdf = (sigma * sqrt(2*pi))*exp(-(x-mu)**2/(2*sigma**2))\n",
    "\n",
    "eq_pdf_f = eq_pdf.subs({\n",
    "    sigma:sigmaf,\n",
    "    mu:muf\n",
    "})\n",
    "eq_pdf_b = eq_pdf.subs({\n",
    "    sigma:sigmab,\n",
    "    mu:mub\n",
    "})\n",
    "\n",
    "\n",
    "\n"
   ]
  }
 ],
 "metadata": {
  "language_info": {
   "name": "python"
  }
 },
 "nbformat": 4,
 "nbformat_minor": 2
}
